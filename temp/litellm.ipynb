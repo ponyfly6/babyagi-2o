{
 "cells": [
  {
   "cell_type": "markdown",
   "metadata": {},
   "source": [
    "# litellm\n",
    "- 是一个轻量级的统一大模型api 接口库\n",
    "\n",
    "\n",
    "__多模型适配层+路由转发+容错+日志追踪+审计机制__，适用于 Agent 框架、LLM SaaS 产品开发、成本控制、多云部署等场景。\n",
    "\n"
   ]
  },
  {
   "cell_type": "code",
   "execution_count": 1,
   "metadata": {},
   "outputs": [
    {
     "name": "stdout",
     "output_type": "stream",
     "text": [
      "你好！有什么我可以帮助你的吗？\n"
     ]
    }
   ],
   "source": [
    "import litellm\n",
    "from dotenv import load_dotenv\n",
    "\n",
    "load_dotenv()\n",
    "\n",
    "response = litellm.completion(\n",
    "   model=\"gpt-4o-mini\",\n",
    "   messages=[\n",
    "      {\"role\": \"user\", \"content\": \"你好\"}\n",
    "   ]\n",
    ")\n",
    "\n",
    "print(response[\"choices\"][0][\"message\"][\"content\"])\n",
    "\n",
    "\n",
    "\n"
   ]
  },
  {
   "cell_type": "code",
   "execution_count": 2,
   "metadata": {},
   "outputs": [
    {
     "name": "stdout",
     "output_type": "stream",
     "text": [
      "raw response: ModelResponse(id='chatcmpl-BZD7iVvNGPKndvGRLSq5ROzKrftQw', created=1747731626, model='gpt-4o-mini-2024-07-18', object='chat.completion', system_fingerprint='fp_54eb4bd693', choices=[Choices(finish_reason='function_call', index=0, message=Message(content=None, role='assistant', tool_calls=None, function_call=FunctionCall(arguments='{\"city\":\"北京\"}', name='get_weather'), provider_specific_fields={'refusal': None}, annotations=[]))], usage=Usage(completion_tokens=14, prompt_tokens=59, total_tokens=73, completion_tokens_details=CompletionTokensDetailsWrapper(accepted_prediction_tokens=0, audio_tokens=0, reasoning_tokens=0, rejected_prediction_tokens=0, text_tokens=None), prompt_tokens_details=PromptTokensDetailsWrapper(audio_tokens=0, cached_tokens=0, text_tokens=None, image_tokens=None)), service_tier='default')\n"
     ]
    },
    {
     "ename": "TypeError",
     "evalue": "'FunctionCall' object is not subscriptable",
     "output_type": "error",
     "traceback": [
      "\u001b[31m---------------------------------------------------------------------------\u001b[39m",
      "\u001b[31mTypeError\u001b[39m                                 Traceback (most recent call last)",
      "\u001b[36mCell\u001b[39m\u001b[36m \u001b[39m\u001b[32mIn[2]\u001b[39m\u001b[32m, line 42\u001b[39m\n\u001b[32m     40\u001b[39m choice = response[\u001b[33m\"\u001b[39m\u001b[33mchoices\u001b[39m\u001b[33m\"\u001b[39m][\u001b[32m0\u001b[39m][\u001b[33m\"\u001b[39m\u001b[33mmessage\u001b[39m\u001b[33m\"\u001b[39m]\n\u001b[32m     41\u001b[39m \u001b[38;5;28;01mif\u001b[39;00m choice.get(\u001b[33m\"\u001b[39m\u001b[33mfunction_call\u001b[39m\u001b[33m\"\u001b[39m):\n\u001b[32m---> \u001b[39m\u001b[32m42\u001b[39m     \u001b[38;5;28mprint\u001b[39m(\u001b[33m\"\u001b[39m\u001b[33m模型要求调用函数：\u001b[39m\u001b[33m\"\u001b[39m, \u001b[43mchoice\u001b[49m\u001b[43m[\u001b[49m\u001b[33;43m\"\u001b[39;49m\u001b[33;43mfunction_call\u001b[39;49m\u001b[33;43m\"\u001b[39;49m\u001b[43m]\u001b[49m\u001b[43m[\u001b[49m\u001b[33;43m\"\u001b[39;49m\u001b[33;43mname\u001b[39;49m\u001b[33;43m\"\u001b[39;49m\u001b[43m]\u001b[49m)\n\u001b[32m     43\u001b[39m     \u001b[38;5;28mprint\u001b[39m(\u001b[33m\"\u001b[39m\u001b[33m模型解析出的参数：\u001b[39m\u001b[33m\"\u001b[39m, choice[\u001b[33m\"\u001b[39m\u001b[33mfunction_call\u001b[39m\u001b[33m\"\u001b[39m][\u001b[33m\"\u001b[39m\u001b[33marguments\u001b[39m\u001b[33m\"\u001b[39m])\n\u001b[32m     44\u001b[39m \u001b[38;5;28;01melse\u001b[39;00m:\n",
      "\u001b[31mTypeError\u001b[39m: 'FunctionCall' object is not subscriptable"
     ]
    }
   ],
   "source": [
    "import litellm\n",
    "\n",
    "# define function function call's schema\n",
    "functions = [\n",
    "    {\n",
    "        \"name\": \"get_weather\",\n",
    "        \"description\": \"获取指定城市的当前天气情况\",\n",
    "        \"parameters\": {\n",
    "            \"type\": \"object\",\n",
    "            \"properties\": {\n",
    "                \"city\": {\n",
    "                    \"type\": \"string\",\n",
    "                    \"description\": \"要查询天气的城市名称\"\n",
    "                }\n",
    "            },\n",
    "            \"required\": [\"city\"]\n",
    "        }\n",
    "    }\n",
    "]\n",
    "\n",
    "\n",
    "# user input\n",
    "messages = [\n",
    "    {\"role\": \"user\", \"content\": \"北京今天的天气怎么样？\"}\n",
    "]\n",
    "\n",
    "\n",
    "response = litellm.completion(\n",
    "    model=\"gpt-4o-mini\",\n",
    "    messages=messages,\n",
    "    functions=functions,\n",
    "    function_call=\"auto\"\n",
    ")\n",
    "\n",
    "# 打印完整返回\n",
    "print(\"raw response:\", response)\n",
    "\n",
    "# 检查模型是否想调用你的函数\n",
    "\n",
    "choice = response[\"choices\"][0][\"message\"]\n",
    "if choice.get(\"function_call\"):\n",
    "    print(\"模型要求调用函数：\", choice[\"function_call\"][\"name\"])\n",
    "    print(\"模型解析出的参数：\", choice[\"function_call\"][\"arguments\"])\n",
    "else:\n",
    "    print(\"模型直接回复了：\", choice.get(\"content\"))\n",
    "\n"
   ]
  }
 ],
 "metadata": {
  "kernelspec": {
   "display_name": "ai-agent",
   "language": "python",
   "name": "python3"
  },
  "language_info": {
   "codemirror_mode": {
    "name": "ipython",
    "version": 3
   },
   "file_extension": ".py",
   "mimetype": "text/x-python",
   "name": "python",
   "nbconvert_exporter": "python",
   "pygments_lexer": "ipython3",
   "version": "3.12.4"
  }
 },
 "nbformat": 4,
 "nbformat_minor": 2
}
