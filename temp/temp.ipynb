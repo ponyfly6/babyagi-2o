{
 "cells": [
  {
   "cell_type": "code",
   "execution_count": 8,
   "metadata": {},
   "outputs": [
    {
     "data": {
      "text/plain": [
       "[1, 2, 3, 4]"
      ]
     },
     "execution_count": 8,
     "metadata": {},
     "output_type": "execute_result"
    }
   ],
   "source": [
    "l = [[1,2], [3, 4], [5]]\n",
    "new_l = [j for i in l  if len(i) > 1 for j in i]\n",
    "\n",
    "new_l\n"
   ]
  },
  {
   "cell_type": "code",
   "execution_count": 9,
   "metadata": {},
   "outputs": [
    {
     "data": {
      "text/plain": [
       "'HELLO WORLD'"
      ]
     },
     "execution_count": 9,
     "metadata": {},
     "output_type": "execute_result"
    }
   ],
   "source": [
    "old_str = \"hello world\"\n",
    "old_str.upper()\n"
   ]
  },
  {
   "cell_type": "markdown",
   "metadata": {},
   "source": [
    "# json"
   ]
  },
  {
   "cell_type": "markdown",
   "metadata": {},
   "source": [
    "| 方法        | 输入       | 输出       | 典型用途     |\n",
    "| --------- | -------- | -------- | -------- |\n",
    "| `dump()`  | Python对象 | 写入到文件    | 保存到本地    |\n",
    "| `dumps()` | Python对象 | JSON字符串  | 网络传输、日志等 |\n",
    "| `load()`  | 文件对象     | Python对象 | 从文件读取    |\n",
    "| `loads()` | JSON字符串  | Python对象 | 从字符串读取   |\n",
    "\n",
    "=========================\n",
    "巧记：\n",
    "    s结尾是string 字符串用，没s结尾是和文件打交道的。"
   ]
  },
  {
   "cell_type": "code",
   "execution_count": 15,
   "metadata": {},
   "outputs": [
    {
     "name": "stdout",
     "output_type": "stream",
     "text": [
      "{\"name\": \"John\", \"age\": 30}\n",
      "<class 'str'> <class 'dict'>\n"
     ]
    }
   ],
   "source": [
    "import json\n",
    "\n",
    "data = {\"name\": \"John\", \"age\": 30}\n",
    "\n",
    "# 将 python 对象 转换为JSON字符串\n",
    "json_str = json.dumps(data)\n",
    "\n",
    "print(json_str)\n",
    "print(type(json_str), type(data))\n"
   ]
  },
  {
   "cell_type": "code",
   "execution_count": 13,
   "metadata": {},
   "outputs": [
    {
     "data": {
      "text/plain": [
       "{'name': 'John', 'age': 30}"
      ]
     },
     "execution_count": 13,
     "metadata": {},
     "output_type": "execute_result"
    }
   ],
   "source": [
    "data"
   ]
  },
  {
   "cell_type": "code",
   "execution_count": 16,
   "metadata": {},
   "outputs": [],
   "source": [
    "# 2 json.dump()\n",
    "\n",
    "with open('data.json', 'w') as f:\n",
    "    json.dump(data, f)"
   ]
  },
  {
   "cell_type": "code",
   "execution_count": 17,
   "metadata": {},
   "outputs": [
    {
     "name": "stdout",
     "output_type": "stream",
     "text": [
      "{'name': 'John', 'age': 30}\n"
     ]
    }
   ],
   "source": [
    "# 3 json.loads()\n",
    "\n",
    "json_str = '{\"name\": \"John\", \"age\": 30}'\n",
    "data = json.loads(json_str)\n",
    "print(data)\n",
    "\n",
    "# 4 json.load() \n",
    "\n",
    "with open('data.json', 'r') as f:\n",
    "    data = json.load(f)\n",
    "\n"
   ]
  },
  {
   "cell_type": "markdown",
   "metadata": {},
   "source": [
    "# any()"
   ]
  },
  {
   "cell_type": "code",
   "execution_count": 18,
   "metadata": {},
   "outputs": [
    {
     "name": "stdout",
     "output_type": "stream",
     "text": [
      "True\n",
      "False\n",
      "True\n",
      "False\n"
     ]
    }
   ],
   "source": [
    "# any() 只有一个元素为真，结果就是True\n",
    "\n",
    "print(any([0, 0, 1]))\n",
    "print(any([0, False, False]))\n",
    "print(any(['', 'hello']))  # True，有 'hello' 这个非空字符串\n",
    "print(any([]))             # False，空的"
   ]
  },
  {
   "cell_type": "code",
   "execution_count": 20,
   "metadata": {},
   "outputs": [
    {
     "name": "stdout",
     "output_type": "stream",
     "text": [
      "列表中至少有一个非零元素\n"
     ]
    }
   ],
   "source": [
    "numbers = [0, 0, 3, 0]\n",
    "if any(numbers):\n",
    "    print(\"列表中至少有一个非零元素\")\n"
   ]
  },
  {
   "cell_type": "code",
   "execution_count": 21,
   "metadata": {},
   "outputs": [
    {
     "name": "stdout",
     "output_type": "stream",
     "text": [
      "列表中至少有一个非空字符串\n"
     ]
    }
   ],
   "source": [
    "# 搭配生成器表达式\n",
    "words = [\"\", \"\", \"hi\"]\n",
    "if any(word for word in words):\n",
    "    print(\"列表中至少有一个非空字符串\")\n"
   ]
  },
  {
   "cell_type": "markdown",
   "metadata": {},
   "source": [
    "all() 所有都为真才为真"
   ]
  },
  {
   "cell_type": "markdown",
   "metadata": {},
   "source": [
    "# 在函数里修改全局var"
   ]
  },
  {
   "cell_type": "code",
   "execution_count": 25,
   "metadata": {},
   "outputs": [
    {
     "name": "stdout",
     "output_type": "stream",
     "text": [
      "1\n"
     ]
    }
   ],
   "source": [
    "count = 0\n",
    "def increase():\n",
    "    global count\n",
    "    count += 1\n",
    "\n",
    "increase()\n",
    "print(count)\n"
   ]
  },
  {
   "cell_type": "code",
   "execution_count": null,
   "metadata": {},
   "outputs": [],
   "source": []
  }
 ],
 "metadata": {
  "kernelspec": {
   "display_name": "ai-agent",
   "language": "python",
   "name": "python3"
  },
  "language_info": {
   "codemirror_mode": {
    "name": "ipython",
    "version": 3
   },
   "file_extension": ".py",
   "mimetype": "text/x-python",
   "name": "python",
   "nbconvert_exporter": "python",
   "pygments_lexer": "ipython3",
   "version": "3.12.4"
  }
 },
 "nbformat": 4,
 "nbformat_minor": 2
}
