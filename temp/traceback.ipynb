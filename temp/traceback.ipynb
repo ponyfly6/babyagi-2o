{
 "cells": [
  {
   "cell_type": "markdown",
   "metadata": {},
   "source": [
    "# traceback\n",
    "- 用于处理和格式化异常追踪信息（traceback）。它可以帮助你以coding方式获取、格式化和打印错误栈信息，非常适用于调试、日志记录、或在异常处理时输出可读性更强的信息"
   ]
  },
  {
   "cell_type": "code",
   "execution_count": 2,
   "metadata": {},
   "outputs": [
    {
     "name": "stdout",
     "output_type": "stream",
     "text": [
      "division by zero\n",
      "----------------\n",
      "Traceback (most recent call last):\n",
      "  File \"C:\\Users\\Pony\\AppData\\Local\\Temp\\ipykernel_23368\\2382603790.py\", line 4, in <module>\n",
      "    1 / 0\n",
      "    ~~^~~\n",
      "ZeroDivisionError: division by zero\n",
      "\n"
     ]
    }
   ],
   "source": [
    "import traceback\n",
    "\n",
    "try:\n",
    "    1 / 0\n",
    "except Exception as e:\n",
    "    print(e)\n",
    "    print(\"----------------\")\n",
    "    print(traceback.format_exc())"
   ]
  },
  {
   "cell_type": "markdown",
   "metadata": {},
   "source": [
    "# 2 典型使用场景"
   ]
  },
  {
   "cell_type": "code",
   "execution_count": 3,
   "metadata": {},
   "outputs": [
    {
     "name": "stderr",
     "output_type": "stream",
     "text": [
      "--- Logging error ---\n",
      "Traceback (most recent call last):\n",
      "  File \"C:\\Users\\Pony\\AppData\\Local\\Temp\\ipykernel_23368\\583827019.py\", line 6, in <module>\n",
      "    do_something()\n",
      "    ^^^^^^^^^^^^\n",
      "NameError: name 'do_something' is not defined\n",
      "\n",
      "During handling of the above exception, another exception occurred:\n",
      "\n",
      "Traceback (most recent call last):\n",
      "  File \"d:\\develop\\environments\\conda\\envs\\ai-agent\\Lib\\logging\\__init__.py\", line 1160, in emit\n",
      "    msg = self.format(record)\n",
      "          ^^^^^^^^^^^^^^^^^^^\n",
      "  File \"d:\\develop\\environments\\conda\\envs\\ai-agent\\Lib\\logging\\__init__.py\", line 999, in format\n",
      "    return fmt.format(record)\n",
      "           ^^^^^^^^^^^^^^^^^^\n",
      "  File \"d:\\develop\\environments\\conda\\envs\\ai-agent\\Lib\\logging\\__init__.py\", line 703, in format\n",
      "    record.message = record.getMessage()\n",
      "                     ^^^^^^^^^^^^^^^^^^^\n",
      "  File \"d:\\develop\\environments\\conda\\envs\\ai-agent\\Lib\\logging\\__init__.py\", line 392, in getMessage\n",
      "    msg = msg % self.args\n",
      "          ~~~~^~~~~~~~~~~\n",
      "TypeError: not all arguments converted during string formatting\n",
      "Call stack:\n",
      "  File \"<frozen runpy>\", line 198, in _run_module_as_main\n",
      "  File \"<frozen runpy>\", line 88, in _run_code\n",
      "  File \"d:\\develop\\environments\\conda\\envs\\ai-agent\\Lib\\site-packages\\ipykernel_launcher.py\", line 18, in <module>\n",
      "    app.launch_new_instance()\n",
      "  File \"d:\\develop\\environments\\conda\\envs\\ai-agent\\Lib\\site-packages\\traitlets\\config\\application.py\", line 1075, in launch_instance\n",
      "    app.start()\n",
      "  File \"d:\\develop\\environments\\conda\\envs\\ai-agent\\Lib\\site-packages\\ipykernel\\kernelapp.py\", line 739, in start\n",
      "    self.io_loop.start()\n",
      "  File \"d:\\develop\\environments\\conda\\envs\\ai-agent\\Lib\\site-packages\\tornado\\platform\\asyncio.py\", line 205, in start\n",
      "    self.asyncio_loop.run_forever()\n",
      "  File \"d:\\develop\\environments\\conda\\envs\\ai-agent\\Lib\\asyncio\\base_events.py\", line 641, in run_forever\n",
      "    self._run_once()\n",
      "  File \"d:\\develop\\environments\\conda\\envs\\ai-agent\\Lib\\asyncio\\base_events.py\", line 1987, in _run_once\n",
      "    handle._run()\n",
      "  File \"d:\\develop\\environments\\conda\\envs\\ai-agent\\Lib\\asyncio\\events.py\", line 88, in _run\n",
      "    self._context.run(self._callback, *self._args)\n",
      "  File \"d:\\develop\\environments\\conda\\envs\\ai-agent\\Lib\\site-packages\\ipykernel\\kernelbase.py\", line 545, in dispatch_queue\n",
      "    await self.process_one()\n",
      "  File \"d:\\develop\\environments\\conda\\envs\\ai-agent\\Lib\\site-packages\\ipykernel\\kernelbase.py\", line 534, in process_one\n",
      "    await dispatch(*args)\n",
      "  File \"d:\\develop\\environments\\conda\\envs\\ai-agent\\Lib\\site-packages\\ipykernel\\kernelbase.py\", line 437, in dispatch_shell\n",
      "    await result\n",
      "  File \"d:\\develop\\environments\\conda\\envs\\ai-agent\\Lib\\site-packages\\ipykernel\\ipkernel.py\", line 362, in execute_request\n",
      "    await super().execute_request(stream, ident, parent)\n",
      "  File \"d:\\develop\\environments\\conda\\envs\\ai-agent\\Lib\\site-packages\\ipykernel\\kernelbase.py\", line 778, in execute_request\n",
      "    reply_content = await reply_content\n",
      "  File \"d:\\develop\\environments\\conda\\envs\\ai-agent\\Lib\\site-packages\\ipykernel\\ipkernel.py\", line 449, in do_execute\n",
      "    res = shell.run_cell(\n",
      "  File \"d:\\develop\\environments\\conda\\envs\\ai-agent\\Lib\\site-packages\\ipykernel\\zmqshell.py\", line 549, in run_cell\n",
      "    return super().run_cell(*args, **kwargs)\n",
      "  File \"d:\\develop\\environments\\conda\\envs\\ai-agent\\Lib\\site-packages\\IPython\\core\\interactiveshell.py\", line 3047, in run_cell\n",
      "    result = self._run_cell(\n",
      "  File \"d:\\develop\\environments\\conda\\envs\\ai-agent\\Lib\\site-packages\\IPython\\core\\interactiveshell.py\", line 3102, in _run_cell\n",
      "    result = runner(coro)\n",
      "  File \"d:\\develop\\environments\\conda\\envs\\ai-agent\\Lib\\site-packages\\IPython\\core\\async_helpers.py\", line 128, in _pseudo_sync_runner\n",
      "    coro.send(None)\n",
      "  File \"d:\\develop\\environments\\conda\\envs\\ai-agent\\Lib\\site-packages\\IPython\\core\\interactiveshell.py\", line 3306, in run_cell_async\n",
      "    has_raised = await self.run_ast_nodes(code_ast.body, cell_name,\n",
      "  File \"d:\\develop\\environments\\conda\\envs\\ai-agent\\Lib\\site-packages\\IPython\\core\\interactiveshell.py\", line 3489, in run_ast_nodes\n",
      "    if await self.run_code(code, result, async_=asy):\n",
      "  File \"d:\\develop\\environments\\conda\\envs\\ai-agent\\Lib\\site-packages\\IPython\\core\\interactiveshell.py\", line 3549, in run_code\n",
      "    exec(code_obj, self.user_global_ns, self.user_ns)\n",
      "  File \"C:\\Users\\Pony\\AppData\\Local\\Temp\\ipykernel_23368\\583827019.py\", line 8, in <module>\n",
      "    logging.error(\"出现错误:\\n\", traceback.format_exc())\n",
      "Message: '出现错误:\\n'\n",
      "Arguments: ('Traceback (most recent call last):\\n  File \"C:\\\\Users\\\\Pony\\\\AppData\\\\Local\\\\Temp\\\\ipykernel_23368\\\\583827019.py\", line 6, in <module>\\n    do_something()\\n    ^^^^^^^^^^^^\\nNameError: name \\'do_something\\' is not defined\\n',)\n"
     ]
    }
   ],
   "source": [
    "# 日志记录\n",
    "\n",
    "import logging\n",
    "import traceback\n",
    "\n",
    "\n",
    "try:\n",
    "    do_something()\n",
    "except Exception as e:\n",
    "    logging.error(\"出现错误:\\n\", traceback.format_exc())\n"
   ]
  },
  {
   "cell_type": "code",
   "execution_count": 4,
   "metadata": {},
   "outputs": [
    {
     "ename": "NameError",
     "evalue": "name 'render_template' is not defined",
     "output_type": "error",
     "traceback": [
      "\u001b[31m---------------------------------------------------------------------------\u001b[39m",
      "\u001b[31mNameError\u001b[39m                                 Traceback (most recent call last)",
      "\u001b[36mCell\u001b[39m\u001b[36m \u001b[39m\u001b[32mIn[4]\u001b[39m\u001b[32m, line 2\u001b[39m\n\u001b[32m      1\u001b[39m \u001b[38;5;28;01mtry\u001b[39;00m:\n\u001b[32m----> \u001b[39m\u001b[32m2\u001b[39m     \u001b[43mrisky_operation\u001b[49m()\n\u001b[32m      3\u001b[39m \u001b[38;5;28;01mexcept\u001b[39;00m \u001b[38;5;167;01mException\u001b[39;00m \u001b[38;5;28;01mas\u001b[39;00m e:\n",
      "\u001b[31mNameError\u001b[39m: name 'risky_operation' is not defined",
      "\nDuring handling of the above exception, another exception occurred:\n",
      "\u001b[31mNameError\u001b[39m                                 Traceback (most recent call last)",
      "\u001b[36mCell\u001b[39m\u001b[36m \u001b[39m\u001b[32mIn[4]\u001b[39m\u001b[32m, line 5\u001b[39m\n\u001b[32m      3\u001b[39m \u001b[38;5;28;01mexcept\u001b[39;00m \u001b[38;5;167;01mException\u001b[39;00m \u001b[38;5;28;01mas\u001b[39;00m e:\n\u001b[32m      4\u001b[39m     error_info = traceback.format_exc()\n\u001b[32m----> \u001b[39m\u001b[32m5\u001b[39m     \u001b[43mrender_template\u001b[49m(\u001b[33m\"\u001b[39m\u001b[33merror.html\u001b[39m\u001b[33m\"\u001b[39m, error=error_info)\n",
      "\u001b[31mNameError\u001b[39m: name 'render_template' is not defined"
     ]
    }
   ],
   "source": [
    "try:\n",
    "    risky_operation()\n",
    "except Exception as e:\n",
    "    error_info = traceback.format_exc()\n",
    "    render_template(\"error.html\", error=error_info)"
   ]
  }
 ],
 "metadata": {
  "kernelspec": {
   "display_name": "ai-agent",
   "language": "python",
   "name": "python3"
  },
  "language_info": {
   "codemirror_mode": {
    "name": "ipython",
    "version": 3
   },
   "file_extension": ".py",
   "mimetype": "text/x-python",
   "name": "python",
   "nbconvert_exporter": "python",
   "pygments_lexer": "ipython3",
   "version": "3.12.4"
  }
 },
 "nbformat": 4,
 "nbformat_minor": 2
}
